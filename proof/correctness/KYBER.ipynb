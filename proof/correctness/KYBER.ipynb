{
 "cells": [
  {
   "cell_type": "code",
   "execution_count": 2,
   "metadata": {},
   "outputs": [
    {
     "name": "stdout",
     "output_type": "stream",
     "text": [
      "89\n"
     ]
    }
   ],
   "source": [
    "n = 8\n",
    "eta = 11\n",
    "q = n*eta+1\n",
    "assert is_prime(q)\n",
    "print q"
   ]
  },
  {
   "cell_type": "code",
   "execution_count": 3,
   "metadata": {},
   "outputs": [
    {
     "name": "stdout",
     "output_type": "stream",
     "text": [
      "X^8 + 1\n",
      "Univariate Quotient Polynomial Ring in Xbar over Ring of integers modulo 89 with modulus X^8 + 1\n"
     ]
    },
    {
     "data": {
      "text/plain": [
       "(X^2 + 12) * (X^2 + 37) * (X^2 + 52) * (X^2 + 77)"
      ]
     },
     "execution_count": 3,
     "metadata": {},
     "output_type": "execute_result"
    }
   ],
   "source": [
    "Zq = IntegerModRing(q)\n",
    "ZqX.<X> = PolynomialRing(Zq)\n",
    "Pmod = X^n + 1\n",
    "Rq = QuotientRing(ZqX,Pmod)\n",
    "print(Pmod)\n",
    "print(Rq)\n",
    "factor(X^n+1)"
   ]
  },
  {
   "cell_type": "code",
   "execution_count": 3,
   "metadata": {
    "scrolled": true
   },
   "outputs": [
    {
     "name": "stdout",
     "output_type": "stream",
     "text": [
      "[1, 34, 37, 12, 77, 52, 55, 88]\n",
      "37\n"
     ]
    }
   ],
   "source": [
    "w = Zq.multiplicative_generator()\n",
    "a = w^(eta)\n",
    "rrs = sorted([ ZZ(a^i)  for  i in range(n)])\n",
    "assert(len(list(set(rrs)))==n)\n",
    "assert(list(set([Zq(x)^(n) for x in rrs]))==[Zq(1)])\n",
    "rrs = list(set(rrs))\n",
    "print rrs\n",
    "#a = Zq(rrs[1])\n",
    "print a"
   ]
  },
  {
   "cell_type": "code",
   "execution_count": 4,
   "metadata": {},
   "outputs": [],
   "source": [
    "def revbits(i,nbits):\n",
    "    bb = ZZ(i).digits(2)\n",
    "    bb = bb+[ZZ(0)]*(nbits-len(bb))\n",
    "    bb.reverse()\n",
    "    return ZZ(bb,2)\n",
    "\n",
    "def NTT(f):\n",
    "    c = f.coefficients()\n",
    "    c = c+[Zq(0)]*(n-len(c))\n",
    "    k = 1\n",
    "    l = n//2\n",
    "    while l >= 2:\n",
    "        s = 0\n",
    "        while s < n:\n",
    "            j = s\n",
    "            while j < s + l:\n",
    "                t = a^revbits(k,2)*c[j+l]\n",
    "                c[j+l] = c[j] - t\n",
    "                c[j] = c[j] + t\n",
    "                j = j + 1\n",
    "            k = k + 1\n",
    "            s = j + l\n",
    "        l = l//2\n",
    "    return c\n",
    "\n",
    "def NTTinv(c):\n",
    "    k = 0\n",
    "    l = 2\n",
    "    while l <= n//2:\n",
    "        s = 0\n",
    "        while s < n:\n",
    "            j = s\n",
    "            while j < s + l:\n",
    "                t = c[j]\n",
    "                c[j] = t + c[j + l]\n",
    "                c[j + l] = t - c[j + l]\n",
    "                c[j + l] = Zq(ZZ(a^(revbits(k,2)+1)).inverse_mod(q)) * c[j+l]\n",
    "                j = j + 1\n",
    "            k = k + 1\n",
    "            s = j + l\n",
    "        l = l*2\n",
    "    j = 0\n",
    "    while j < n:\n",
    "        c[j] = c[j] *ZZ(n//2).inverse_mod(q)\n",
    "        j = j + 1\n",
    "    return c\n",
    "\n",
    "def polymul(c10,c11,c20,c21,i):\n",
    "    ee = a^(2*revbits(i,2)+1)\n",
    "    print(X^2-ee)\n",
    "    r0  = c11 * c21\n",
    "    r0  = r0 * ee\n",
    "    r0 += c10 * c20\n",
    "    r1  = c10 * c21\n",
    "    r1 += c11 * c20\n",
    "    return [r0,r1]\n"
   ]
  },
  {
   "cell_type": "code",
   "execution_count": 5,
   "metadata": {},
   "outputs": [
    {
     "name": "stdout",
     "output_type": "stream",
     "text": [
      "[53, 46, 48, 17, 68, 61, 53, 76]\n",
      "[60, 12, 42, 45, 11, 9, 10, 29]\n",
      "[53, 46, 48, 17, 68, 61, 53, 76]\n",
      "True\n"
     ]
    }
   ],
   "source": [
    "f = Rq.random_element().lift()\n",
    "print f.coefficients()\n",
    "ftt = NTT(f)\n",
    "print(ftt)\n",
    "fp = NTTinv(ftt)\n",
    "print(fp)\n",
    "print(ZqX(fp)==f)"
   ]
  },
  {
   "cell_type": "code",
   "execution_count": 6,
   "metadata": {},
   "outputs": [
    {
     "name": "stdout",
     "output_type": "stream",
     "text": [
      "[X^2 + 12, X^2 + 37, X^2 + 52, X^2 + 77]\n",
      "[X^2 + 52, X^2 + 77, X^2 + 37, X^2 + 12]\n",
      "[60, 12, 11, 9, 42, 45, 10, 29]\n",
      "[53, 46, 48, 17, 68, 61, 53, 76]\n"
     ]
    }
   ],
   "source": [
    "fs = map(lambda x : x[0],list(factor(Pmod)))\n",
    "print fs\n",
    "fs = [ X^2 - a^(i*2+1) for i in range(n//2)]\n",
    "print fs\n",
    "\n",
    "def NTTfake(f):\n",
    "    cs = []\n",
    "    pp = [ ((QuotientRing(ZqX,ff))(f)).lift() for ff in fs]\n",
    "    for i in range(n//2):\n",
    "        cs+=pp[i].coefficients()+[Zq(0)]*(2-len(pp[i].coefficients()))\n",
    "    return cs\n",
    "\n",
    "def NTTinvfake(v):\n",
    "    ff = []\n",
    "    i = 0\n",
    "    while i < n//2:\n",
    "        c0 = v[2*i]\n",
    "        c1 = v[2*i+1]\n",
    "        ff.append(c1*X+c0)\n",
    "        i = i + 1\n",
    "    return ZqX(CRT(ff,fs)).coefficients()\n",
    "\n",
    "def polymul_fake(c10,c11,c20,c21,i):\n",
    "    RR = QuotientRing(ZqX,fs[revbits(i,2)])\n",
    "    print(fs[revbits(i,2)])\n",
    "    f1f2 = (RR(c11*X+c10)*RR(c21*X+c20)).lift().coefficients()\n",
    "    return f1f2+[Zq(0)]*(2-len(f1f2))\n",
    "\n",
    "print NTTfake(f)\n",
    "print NTTinvfake(NTTfake(f))"
   ]
  },
  {
   "cell_type": "code",
   "execution_count": 7,
   "metadata": {},
   "outputs": [
    {
     "name": "stdout",
     "output_type": "stream",
     "text": [
      "X^2 + 52\n",
      "X^2 + 37\n",
      "X^2 + 77\n",
      "X^2 + 12\n",
      "[36, 54, 71, 79, 33, 21, 36, 9]\n",
      "84*Xbar^7 + 88*Xbar^6 + 59*Xbar^5 + 33*Xbar^4 + 53*Xbar^3 + 66*Xbar^2 + 63*Xbar + 44\n",
      "84*Xbar^7 + 88*Xbar^6 + 59*Xbar^5 + 33*Xbar^4 + 53*Xbar^3 + 66*Xbar^2 + 63*Xbar + 44\n"
     ]
    }
   ],
   "source": [
    "f1 = Rq.random_element().lift()\n",
    "f2 = Rq.random_element().lift()\n",
    "nf1 = NTT(f1)\n",
    "nf2 = NTT(f2)\n",
    "nf1f2 = []\n",
    "i = 0\n",
    "while i < n//2:\n",
    "    c10 = nf1[2*i]\n",
    "    c11 = nf1[2*i+1]\n",
    "    c20 = nf2[2*i]\n",
    "    c21 = nf2[2*i+1]\n",
    "    f1f2 = polymul(c10,c11,c20,c21,i)\n",
    "    nf1f2 += f1f2\n",
    "    i = i + 1\n",
    "print nf1f2\n",
    "f1f2 = NTTinv(nf1f2)\n",
    "print(Rq(f1)*Rq(f2))\n",
    "print(Rq(f1f2))"
   ]
  },
  {
   "cell_type": "code",
   "execution_count": null,
   "metadata": {},
   "outputs": [],
   "source": []
  },
  {
   "cell_type": "code",
   "execution_count": null,
   "metadata": {},
   "outputs": [],
   "source": []
  }
 ],
 "metadata": {
  "kernelspec": {
   "display_name": "SageMath 8.7",
   "language": "",
   "name": "sagemath"
  },
  "language_info": {
   "codemirror_mode": {
    "name": "ipython",
    "version": 2
   },
   "file_extension": ".py",
   "mimetype": "text/x-python",
   "name": "python",
   "nbconvert_exporter": "python",
   "pygments_lexer": "ipython2",
   "version": "2.7.15"
  }
 },
 "nbformat": 4,
 "nbformat_minor": 2
}
